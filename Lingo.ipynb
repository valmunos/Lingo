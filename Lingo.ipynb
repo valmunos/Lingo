{
 "cells": [
  {
   "cell_type": "code",
   "execution_count": null,
   "metadata": {
    "collapsed": true
   },
   "outputs": [],
   "source": [
    "from lingo import *\n",
    "# make sure you have the lingo.py and words.txt files in your directory. They should have been included in the zip file."
   ]
  },
  {
   "cell_type": "markdown",
   "metadata": {},
   "source": [
    "<h2><center><b><span style=\"font-size: 18pt; border-style: solid; border-color: silver; border-radius: 50%; border-width: 2px; padding-left: 12px; padding-right: 12px; padding-bottom: 3px;color: silver; background-color: blue\">L</span><span style=\"font-size: 18pt; border-style: solid; border-color: silver; border-radius: 50%; border-width: 2px; padding-left: 15px; padding-right: 15px; padding-bottom: 3px; color: silver; background-color: blue\">I</span><span style=\"font-size: 18pt; border-style: solid; border-color: silver; border-radius: 50%; border-width: 2px; padding-left: 12px; padding-right: 12px; padding-bottom: 3px; color: silver; background-color: blue\">N</span><span style=\"font-size: 18pt; border-style: solid; border-color: silver; border-radius: 50%; border-width: 2px; padding-left: 9px; padding-right: 9px; padding-bottom: 3px; color: silver; background-color: blue\">G</span><span style=\"font-size: 18pt; border-style: solid; border-color: silver; border-radius: 50%; border-width: 2px; padding-left: 9px; padding-right: 9px; padding-bottom: 3px; color: silver; background-color: blue\">O</span></b></center></h2>\n",
    "\n",
    "<p><center>Welcome to LINGO! Continue to the next cell for instructions and difficulty settings</p></center>"
   ]
  },
  {
   "cell_type": "code",
   "execution_count": null,
   "metadata": {
    "collapsed": false
   },
   "outputs": [],
   "source": [
    "display(widgets.HBox([rules,length, tries, clock],width='95%', height='100%'))\n",
    "# Note: Values update automatically. The cell does not need to be run every time a change is made."
   ]
  },
  {
   "cell_type": "code",
   "execution_count": null,
   "metadata": {
    "collapsed": false
   },
   "outputs": [],
   "source": [
    "display(widgets.HBox([text,fetch,record,restart]))"
   ]
  },
  {
   "cell_type": "code",
   "execution_count": null,
   "metadata": {
    "collapsed": false
   },
   "outputs": [],
   "source": [
    "'''\n",
    "\n",
    "\n",
    "I inserted this box to help with visibility\n",
    "\n",
    "\n",
    "'''"
   ]
  }
 ],
 "metadata": {
  "kernelspec": {
   "display_name": "Python 3",
   "language": "python",
   "name": "python3"
  },
  "language_info": {
   "codemirror_mode": {
    "name": "ipython",
    "version": 3
   },
   "file_extension": ".py",
   "mimetype": "text/x-python",
   "name": "python",
   "nbconvert_exporter": "python",
   "pygments_lexer": "ipython3",
   "version": "3.5.2"
  },
  "widgets": {
   "state": {
    "5571209dec0f4412a312917f24bde3f3": {
     "views": [
      {
       "cell_index": 3
      }
     ]
    },
    "9f24f846c166477388ccb7fcfa62f630": {
     "views": [
      {
       "cell_index": 2
      }
     ]
    }
   },
   "version": "1.2.0"
  }
 },
 "nbformat": 4,
 "nbformat_minor": 2
}
